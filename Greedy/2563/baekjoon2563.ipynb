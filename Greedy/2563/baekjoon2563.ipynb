{
 "cells": [
  {
   "cell_type": "code",
   "execution_count": 2,
   "metadata": {},
   "outputs": [
    {
     "name": "stdin",
     "output_type": "stream",
     "text": [
      " 3\n",
      " 3 7\n",
      " 15 7\n",
      " 5 2\n"
     ]
    },
    {
     "name": "stdout",
     "output_type": "stream",
     "text": [
      "260\n"
     ]
    }
   ],
   "source": [
    "# 입력처리\n",
    "n = int(input())\n",
    "cnt = 0\n",
    "\n",
    "paper = [[0 for i in range(101)] for j in range(101)]\n",
    "\n",
    "# 색종이 만들고 칠하기 (로직구현)\n",
    "for i in range(n):\n",
    "    x, y = map(int, input().split())\n",
    "\n",
    "    for j in range(x, x+10):\n",
    "        for k in range(y, y+10):\n",
    "            if paper[j][k] == 1:\n",
    "                continue\n",
    "            else:\n",
    "                paper[j][k] = 1\n",
    "                cnt = cnt + 1\n",
    "print(cnt)"
   ]
  }
 ],
 "metadata": {
  "kernelspec": {
   "display_name": "Python 3",
   "language": "python",
   "name": "python3"
  },
  "language_info": {
   "codemirror_mode": {
    "name": "ipython",
    "version": 3
   },
   "file_extension": ".py",
   "mimetype": "text/x-python",
   "name": "python",
   "nbconvert_exporter": "python",
   "pygments_lexer": "ipython3",
   "version": "3.8.5"
  }
 },
 "nbformat": 4,
 "nbformat_minor": 4
}
