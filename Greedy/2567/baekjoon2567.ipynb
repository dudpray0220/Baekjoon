{
 "cells": [
  {
   "cell_type": "code",
   "execution_count": 8,
   "metadata": {},
   "outputs": [
    {
     "name": "stdin",
     "output_type": "stream",
     "text": [
      " 4\n",
      " 3 7\n",
      " 5 2\n",
      " 15 7\n",
      " 13 14\n"
     ]
    },
    {
     "name": "stdout",
     "output_type": "stream",
     "text": [
      "96\n"
     ]
    }
   ],
   "source": [
    "n = int(input())\n",
    "cnt = 0\n",
    "\n",
    "# 도화지 생성 (2차원 배열)\n",
    "paper = [[0 for i in range(101)] for j in range(101)] \n",
    "\n",
    "# 색종이 면적 1로 칠하기\n",
    "for i in range(n):\n",
    "    x, y = map(int, input().split())\n",
    "    \n",
    "    for j in range(x, x+10):\n",
    "        for k in range(y, y+10):\n",
    "            paper[j][k] = 1\n",
    "    \n",
    "# 칠한면적에서 둘레구하기\n",
    "for i in range(0, len(paper)):\n",
    "    for j in range(0, len(paper)):\n",
    "        if paper[i][j] == 1:\n",
    "            if paper[i+1][j] == 0:\n",
    "                cnt = cnt + 1\n",
    "            if paper[i-1][j] == 0:\n",
    "                cnt = cnt + 1\n",
    "            if paper[i][j+1] == 0:\n",
    "                cnt = cnt + 1\n",
    "            if paper[i][j-1] == 0:\n",
    "                cnt = cnt + 1\n",
    "                \n",
    "print(cnt)"
   ]
  }
 ],
 "metadata": {
  "kernelspec": {
   "display_name": "Python 3",
   "language": "python",
   "name": "python3"
  },
  "language_info": {
   "codemirror_mode": {
    "name": "ipython",
    "version": 3
   },
   "file_extension": ".py",
   "mimetype": "text/x-python",
   "name": "python",
   "nbconvert_exporter": "python",
   "pygments_lexer": "ipython3",
   "version": "3.8.5"
  }
 },
 "nbformat": 4,
 "nbformat_minor": 4
}
